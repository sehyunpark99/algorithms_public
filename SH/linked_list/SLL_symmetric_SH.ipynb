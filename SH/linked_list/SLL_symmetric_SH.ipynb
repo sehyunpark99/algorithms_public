{
 "cells": [
  {
   "cell_type": "code",
   "execution_count": null,
   "metadata": {},
   "outputs": [],
   "source": [
    "class LinkedNode:\n",
    "   def __init__(self, x:int):\n",
    "      self.val = x\n",
    "      self.next = None\n",
    "      \n",
    "# Time: O(N), Memory: O(1)\n",
    "def isSymmetric(first: LinkedNode) -> bool:\n",
    "   slow, fast = first, first\n",
    "   # (1) Find where is the center point\n",
    "   while fast.next and fast.next.next:\n",
    "      slow = slow.next\n",
    "      fast = fast.next.next\n",
    "      \n",
    "   # (2) Divide the list into two parts: one starting from \"first\" the other starting from \"first2\"\n",
    "   first2 = slow.nextslow.next = None\n",
    "   \n",
    "   # (3) Reverse the second linked list\n",
    "   prevNode = None\n",
    "   curNode = None\n",
    "   nextNode = first2\n",
    "   while nextNode:\n",
    "      prevNode = curNode\n",
    "      curNode = nextNode\n",
    "      nextNode = nextNode.next\n",
    "      curNode.next = prevNode\n",
    "   first2 = curNode\n",
    "   # (4) Compare the two linked lists\n",
    "   while first and first2:\n",
    "      if first.val == first2.val:\n",
    "         first = first.nextfirst2 = first2.next\n",
    "      else:\n",
    "         return False\n",
    "   return True"
   ]
  }
 ],
 "metadata": {
  "language_info": {
   "name": "python"
  },
  "orig_nbformat": 4
 },
 "nbformat": 4,
 "nbformat_minor": 2
}
