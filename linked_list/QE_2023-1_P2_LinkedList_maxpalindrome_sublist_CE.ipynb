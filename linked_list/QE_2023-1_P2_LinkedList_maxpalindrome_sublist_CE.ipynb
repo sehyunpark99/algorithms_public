{
 "cells": [
  {
   "cell_type": "markdown",
   "metadata": {},
   "source": [
    "### QE - 2023-1 Problem2. LinkedList panlindrome으로 추정.\n",
    "max_palindrome 함수로 palindrome 다 뽑는 함수"
   ]
  },
  {
   "cell_type": "code",
   "execution_count": 1,
   "metadata": {},
   "outputs": [],
   "source": [
    "class Node:\n",
    "    def __init__(self, data, next):\n",
    "        self.data = data\n",
    "        self.next = next"
   ]
  },
  {
   "cell_type": "code",
   "execution_count": 2,
   "metadata": {},
   "outputs": [],
   "source": [
    "# Node를 넣으면 node의 값을 끝까지 출력하는 함수\n",
    "def print_list(s: Node) -> None:\n",
    "    t = [s.data]\n",
    "    while s.next != None:\n",
    "        t.append(s.next.data)\n",
    "        s = s.next\n",
    "        \n",
    "    strings = \"[ \"\n",
    "    for i in range(len(t) - 1):\n",
    "        strings = strings + str(t[i]) + \" , \"\n",
    "    strings = strings + str(t[-1]) + \" ]\"\n",
    "    print(strings)    "
   ]
  },
  {
   "cell_type": "code",
   "execution_count": 3,
   "metadata": {},
   "outputs": [],
   "source": [
    "# Node를 넣으면 그 노드가 palindrome인지 아닌지 판단하는 함수\n",
    "def palindrome(s:Node) -> int:\n",
    "    t = [s.data]\n",
    "    \n",
    "    # node를 돌면서 값만 쏙 뽑아서 리스트 만들기 \n",
    "    while s.next != None:\n",
    "        t.append(s.next.data)\n",
    "        s = s.next\n",
    "        \n",
    "    def palindromes(a):\n",
    "        return a == a[::-1] # a[::-1] a를 뒤에서부터 1칸씩 앞으로 출력한 리스트\n",
    "        # original a = reverse a \n",
    "    \n",
    "    # palindrome이 맞으면 1 아니면 0 \n",
    "    if palindromes(t):\n",
    "        return 1\n",
    "    else:\n",
    "        return 0"
   ]
  },
  {
   "cell_type": "code",
   "execution_count": 4,
   "metadata": {},
   "outputs": [],
   "source": [
    "# t가 s에 포함되어있는지 보는 함수\n",
    "def sub_list(s:Node, t: Node) -> int:\n",
    "    def sublists(s, t):\n",
    "        n = len(s)\n",
    "        m = len(t)\n",
    "        if m > n: \n",
    "            return False\n",
    "        for i in range(n-m+1):\n",
    "            if s[i:i+m] == t:\n",
    "                return True\n",
    "        return False\n",
    "    \n",
    "    a = [s.data]\n",
    "    b = [t.data]\n",
    "    while s.next != None:\n",
    "        a.append(s.next.data)\n",
    "        s = s.next\n",
    "    while t.next != None:\n",
    "        b.append(t.next.data)\n",
    "        t = t.next\n",
    "    \n",
    "    if sublists(a,b):\n",
    "        return 1\n",
    "    else:\n",
    "        return 0"
   ]
  },
  {
   "cell_type": "code",
   "execution_count": 5,
   "metadata": {},
   "outputs": [],
   "source": [
    "# max_palindromes 구하는 함수 \n",
    "def max_palindromes(s:Node) -> None:\n",
    "    # palindrome인지 판별\n",
    "    def palindromes(a):\n",
    "        return a == a[::-1]\n",
    "    \n",
    "    # t가 s에 포함되어있는지 판별\n",
    "    def sublists(s, t):\n",
    "        n = len(s)\n",
    "        m = len(t)\n",
    "        if m > n: \n",
    "            return False\n",
    "\n",
    "        for i in range(n-m+1):\n",
    "            if s[i:i+m] == t:\n",
    "                return True\n",
    "        return False\n",
    "    \n",
    "    # s의 값으로 list t를 만듦\n",
    "    t = [s.data]\n",
    "    \n",
    "    while s.next != None:\n",
    "        t.append(s.next.data)\n",
    "        s = s.next\n",
    "    \n",
    "    # \n",
    "    output = []\n",
    "    for n in reversed(range(1, len(t)+1)): #len(t)~1까지 거꾸로\n",
    "        for j in range(len(t)-n+1): #0~len(t)-n+1까지\n",
    "            sub = t[j:j+n] \n",
    "            # palindrome이 맞고, sub가 i에 포함되어있는지 확인, i는 output내에 있는 sub\n",
    "            # any : 하나라도 True인게 있으면 True\n",
    "            if palindromes(sub) and not any(sublists(i, sub) for i in output):\n",
    "                output.append(sub)\n",
    "    a = str(output)\n",
    "    a = a.replace(\" \", \"\")\n",
    "    a = [i for i in a]\n",
    "    print(' '.join(a))\n"
   ]
  },
  {
   "cell_type": "code",
   "execution_count": 24,
   "metadata": {},
   "outputs": [
    {
     "name": "stdout",
     "output_type": "stream",
     "text": [
      "[ 3 , 7 , 7 , 3 ]\n",
      "[ 3 , 7 , 7 ]\n",
      "if t is in s :  1\n",
      "if a is palindrome 1\n",
      "if a is in s :  0\n",
      "[ 1 , 2 , 1 , 3 ]\n",
      "[ [ 1 , 2 , 1 ] , [ 3 ] ]\n",
      "[ 8 , 1 , 2 , 3 , 3 , 2 , 1 , 4 , 9 , 4 , 5 , 6 , 7 , 6 , 5 , 4 , 1 ]\n",
      "[ [ 4 , 5 , 6 , 7 , 6 , 5 , 4 ] , [ 1 , 2 , 3 , 3 , 2 , 1 ] , [ 4 , 9 , 4 ] , [ 8 ] ]\n",
      "[ 2 , 8 , 1 , 2 , 1 , 3 ]\n",
      "[ [ 1 , 2 , 1 ] , [ 8 ] , [ 3 ] ]\n"
     ]
    }
   ],
   "source": [
    "s = Node(3,Node(7,Node(7, Node(3, None)))) #3->7->7->3->None\n",
    "t = Node(3,Node(7,Node(7, None))) #3->7->7->None\n",
    "print_list(s)\n",
    "print_list(t)\n",
    "print(\"if t is in s : \", sub_list(s,t)) # if t is in s\n",
    "\n",
    "a = Node(3,Node(7,Node(3, None))) #3->7->3->None\n",
    "print(\"if a is palindrome\", palindrome(a))\n",
    "print(\"if a is in s : \", sub_list(s,a)) # if a in s\n",
    "\n",
    "s = Node(1,Node(2,Node(1, Node(3, None)))) #1->2->1->3->None\n",
    "print_list(s)\n",
    "max_palindromes(s)\n",
    "\n",
    "# s: 8->1->2->3->3->2->1->4->9->4->5->6->7->...\n",
    "s = Node(8,Node(1,Node(2,Node(3,Node(3,Node(2,Node(1,Node(4,Node(9,Node(4,Node(5,Node(6,Node(7,Node(6,Node(5,Node(4,Node(1,None)))))))))))))))))\n",
    "print_list(s)\n",
    "max_palindromes(s)\n",
    "\n",
    "s = Node(2,Node(8,Node(1,Node(2,Node(1, Node(3, None))))))\n",
    "print_list(s)\n",
    "max_palindromes(s)"
   ]
  },
  {
   "cell_type": "code",
   "execution_count": null,
   "metadata": {},
   "outputs": [],
   "source": []
  },
  {
   "cell_type": "code",
   "execution_count": null,
   "metadata": {},
   "outputs": [],
   "source": []
  }
 ],
 "metadata": {
  "kernelspec": {
   "display_name": "Python 3",
   "language": "python",
   "name": "python3"
  },
  "language_info": {
   "codemirror_mode": {
    "name": "ipython",
    "version": 3
   },
   "file_extension": ".py",
   "mimetype": "text/x-python",
   "name": "python",
   "nbconvert_exporter": "python",
   "pygments_lexer": "ipython3",
   "version": "3.10.12"
  },
  "orig_nbformat": 4
 },
 "nbformat": 4,
 "nbformat_minor": 2
}
